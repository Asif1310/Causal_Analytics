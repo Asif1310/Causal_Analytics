{
  "nbformat": 4,
  "nbformat_minor": 0,
  "metadata": {
    "colab": {
      "provenance": []
    },
    "kernelspec": {
      "name": "python3",
      "display_name": "Python 3"
    },
    "language_info": {
      "name": "python"
    },
    "accelerator": "TPU",
    "gpuClass": "standard"
  },
  "cells": [
    {
      "cell_type": "code",
      "execution_count": null,
      "metadata": {
        "id": "snlKw5a0cEPx"
      },
      "outputs": [],
      "source": [
        "import pandas as pd\n",
        "df = pd.read_csv('main.csv')"
      ]
    },
    {
      "cell_type": "code",
      "source": [
        "df.info()"
      ],
      "metadata": {
        "colab": {
          "base_uri": "https://localhost:8080/"
        },
        "id": "NyDXn2VrcuWR",
        "outputId": "d11e196b-c9ef-4aea-c710-0ee235d59e4a"
      },
      "execution_count": null,
      "outputs": [
        {
          "output_type": "stream",
          "name": "stdout",
          "text": [
            "<class 'pandas.core.frame.DataFrame'>\n",
            "RangeIndex: 54397 entries, 0 to 54396\n",
            "Data columns (total 11 columns):\n",
            " #   Column                           Non-Null Count  Dtype  \n",
            "---  ------                           --------------  -----  \n",
            " 0   Week                             54397 non-null  int64  \n",
            " 1   Agent_Tenure                     54397 non-null  int64  \n",
            " 2   Customer_Tenure                  54397 non-null  int64  \n",
            " 3   category_1                       54397 non-null  int64  \n",
            " 4   category_2                       54397 non-null  int64  \n",
            " 5   category_3                       54397 non-null  int64  \n",
            " 6   category_4                       54397 non-null  int64  \n",
            " 7   est_spend                        54397 non-null  int64  \n",
            " 8   uniqueid                         54397 non-null  int64  \n",
            " 9   P_NPS_Detract_Pass_ProPROMOTERS  54397 non-null  float64\n",
            " 10  Weight                           54397 non-null  float64\n",
            "dtypes: float64(2), int64(9)\n",
            "memory usage: 4.6 MB\n"
          ]
        }
      ]
    },
    {
      "cell_type": "code",
      "source": [
        "import numpy as np"
      ],
      "metadata": {
        "id": "9Q-2s0FPeK9A"
      },
      "execution_count": null,
      "outputs": []
    },
    {
      "cell_type": "code",
      "source": [
        "df['est_spend'].astype('float64')"
      ],
      "metadata": {
        "colab": {
          "base_uri": "https://localhost:8080/"
        },
        "id": "v81DdoL9l8qr",
        "outputId": "a0250c70-68c6-4d9b-8558-119f3cec072c"
      },
      "execution_count": null,
      "outputs": [
        {
          "output_type": "execute_result",
          "data": {
            "text/plain": [
              "0           7.0\n",
              "1         192.0\n",
              "2           6.0\n",
              "3         428.0\n",
              "4        6559.0\n",
              "          ...  \n",
              "54392     165.0\n",
              "54393      25.0\n",
              "54394     947.0\n",
              "54395      11.0\n",
              "54396       8.0\n",
              "Name: est_spend, Length: 54397, dtype: float64"
            ]
          },
          "metadata": {},
          "execution_count": 4
        }
      ]
    },
    {
      "cell_type": "code",
      "source": [
        "sum_cat1 = df.groupby('Week').apply(lambda x: np.sum(x.category_1*x.Weight))\n",
        "sum_cat2 = df.groupby('Week').apply(lambda x: np.sum(x.category_2*x.Weight))\n",
        "sum_cat3 = df.groupby('Week').apply(lambda x: np.sum(x.category_3*x.Weight))\n",
        "sum_cat4 = df.groupby('Week').apply(lambda x: np.sum(x.category_4*x.Weight))\n",
        "agent_tenure = df.groupby('Week').apply(lambda x: np.average(x.Agent_Tenure, weights = x.Weight))\n",
        "cust_tenure = df.groupby('Week').apply(lambda x: np.average(x.Customer_Tenure, weights = x.Weight))\n",
        "est_spend = df.groupby('Week').apply(lambda x: np.sum(x.est_spend*x.Weight))\n",
        "probability = df.groupby('Week').apply(lambda x: np.average(x.P_NPS_Detract_Pass_ProPROMOTERS, weights = x.Weight))"
      ],
      "metadata": {
        "id": "9yWJXOW7eT46"
      },
      "execution_count": null,
      "outputs": []
    },
    {
      "cell_type": "code",
      "source": [
        "df1 = pd.concat([sum_cat1, sum_cat2, sum_cat3, sum_cat4, agent_tenure, cust_tenure, est_spend, probability], axis = 1)"
      ],
      "metadata": {
        "id": "brE_i6L0nFit"
      },
      "execution_count": null,
      "outputs": []
    },
    {
      "cell_type": "code",
      "source": [
        "df1 = df1.rename(columns = {0:'cat1',1:'cat2',2:'cat3',3:'cat4',4:'agent_tenure',5:'cust_tenure',6:'est_spend',7:'probability'})"
      ],
      "metadata": {
        "id": "dRbk1gVgpN8m"
      },
      "execution_count": null,
      "outputs": []
    },
    {
      "cell_type": "code",
      "source": [
        "import statsmodels.api as sm\n",
        "X = sm.add_constant(df1[['cat1', 'cat2','cat3','cat4','agent_tenure','cust_tenure','est_spend']])\n",
        "Y = df1['probability']\n",
        "model = sm.OLS(Y, X).fit()\n",
        "print(model.summary())"
      ],
      "metadata": {
        "colab": {
          "base_uri": "https://localhost:8080/"
        },
        "id": "cYB3UuieqWie",
        "outputId": "467ad210-fae9-4c73-f510-db33902b7ce5"
      },
      "execution_count": null,
      "outputs": [
        {
          "output_type": "stream",
          "name": "stdout",
          "text": [
            "                            OLS Regression Results                            \n",
            "==============================================================================\n",
            "Dep. Variable:            probability   R-squared:                       1.000\n",
            "Model:                            OLS   Adj. R-squared:                    nan\n",
            "Method:                 Least Squares   F-statistic:                       nan\n",
            "Date:                Fri, 03 Mar 2023   Prob (F-statistic):                nan\n",
            "Time:                        22:56:08   Log-Likelihood:                 208.02\n",
            "No. Observations:                   7   AIC:                            -402.0\n",
            "Df Residuals:                       0   BIC:                            -402.4\n",
            "Df Model:                           6                                         \n",
            "Covariance Type:            nonrobust                                         \n",
            "================================================================================\n",
            "                   coef    std err          t      P>|t|      [0.025      0.975]\n",
            "--------------------------------------------------------------------------------\n",
            "const         3.069e-06        inf          0        nan         nan         nan\n",
            "cat1            -0.0006        inf         -0        nan         nan         nan\n",
            "cat2            -0.0006        inf         -0        nan         nan         nan\n",
            "cat3             0.0008        inf          0        nan         nan         nan\n",
            "cat4          6.192e-05        inf          0        nan         nan         nan\n",
            "agent_tenure     0.0007        inf          0        nan         nan         nan\n",
            "cust_tenure      0.0001        inf          0        nan         nan         nan\n",
            "est_spend    -1.908e-07        inf         -0        nan         nan         nan\n",
            "==============================================================================\n",
            "Omnibus:                          nan   Durbin-Watson:                   0.121\n",
            "Prob(Omnibus):                    nan   Jarque-Bera (JB):                6.148\n",
            "Skew:                           2.030   Prob(JB):                       0.0462\n",
            "Kurtosis:                       5.143   Cond. No.                     4.67e+05\n",
            "==============================================================================\n",
            "\n",
            "Notes:\n",
            "[1] Standard Errors assume that the covariance matrix of the errors is correctly specified.\n",
            "[2] The input rank is higher than the number of observations.\n",
            "[3] The condition number is large, 4.67e+05. This might indicate that there are\n",
            "strong multicollinearity or other numerical problems.\n"
          ]
        },
        {
          "output_type": "stream",
          "name": "stderr",
          "text": [
            "/usr/local/lib/python3.8/dist-packages/statsmodels/stats/stattools.py:74: ValueWarning: omni_normtest is not valid with less than 8 observations; 7 samples were given.\n",
            "  warn(\"omni_normtest is not valid with less than 8 observations; %i \"\n",
            "/usr/local/lib/python3.8/dist-packages/statsmodels/regression/linear_model.py:1765: RuntimeWarning: divide by zero encountered in divide\n",
            "  return 1 - (np.divide(self.nobs - self.k_constant, self.df_resid)\n",
            "/usr/local/lib/python3.8/dist-packages/statsmodels/regression/linear_model.py:1765: RuntimeWarning: invalid value encountered in scalar multiply\n",
            "  return 1 - (np.divide(self.nobs - self.k_constant, self.df_resid)\n",
            "/usr/local/lib/python3.8/dist-packages/statsmodels/regression/linear_model.py:1687: RuntimeWarning: divide by zero encountered in scalar divide\n",
            "  return np.dot(wresid, wresid) / self.df_resid\n"
          ]
        }
      ]
    },
    {
      "cell_type": "code",
      "source": [
        "mean_prob = df1['probability'].mean()"
      ],
      "metadata": {
        "id": "pZ2-UIbGushk"
      },
      "execution_count": null,
      "outputs": []
    },
    {
      "cell_type": "code",
      "source": [
        "mean_prob"
      ],
      "metadata": {
        "colab": {
          "base_uri": "https://localhost:8080/"
        },
        "id": "nV7aNmxytK6d",
        "outputId": "7cd473a2-1265-428f-853c-72fd026322b4"
      },
      "execution_count": null,
      "outputs": [
        {
          "output_type": "execute_result",
          "data": {
            "text/plain": [
              "0.6192275062718249"
            ]
          },
          "metadata": {},
          "execution_count": 10
        }
      ]
    },
    {
      "cell_type": "code",
      "source": [
        "round(((model.params['cat2']*0.1)/mean_prob)*100,2)"
      ],
      "metadata": {
        "colab": {
          "base_uri": "https://localhost:8080/"
        },
        "id": "VTwQbWFgrhCq",
        "outputId": "90146fbe-d769-4787-c122-8bb13ccdd1ac"
      },
      "execution_count": null,
      "outputs": [
        {
          "output_type": "execute_result",
          "data": {
            "text/plain": [
              "-0.01"
            ]
          },
          "metadata": {},
          "execution_count": 12
        }
      ]
    },
    {
      "cell_type": "code",
      "source": [
        "round(((model.params['cat3']*0.1)/mean_prob)*100,2)"
      ],
      "metadata": {
        "colab": {
          "base_uri": "https://localhost:8080/"
        },
        "id": "vYrG2o5LufTu",
        "outputId": "438b5f58-79a6-4e4e-944d-747b92111a68"
      },
      "execution_count": null,
      "outputs": [
        {
          "output_type": "execute_result",
          "data": {
            "text/plain": [
              "0.01"
            ]
          },
          "metadata": {},
          "execution_count": 13
        }
      ]
    }
  ]
}